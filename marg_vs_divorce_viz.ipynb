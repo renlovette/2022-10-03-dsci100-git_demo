{
 "cells": [
  {
   "cell_type": "code",
   "execution_count": null,
   "id": "805e37ad-1b71-4236-92dd-4c7a74a2f81e",
   "metadata": {},
   "outputs": [],
   "source": []
  }
 ],
 "metadata": {
  "kernelspec": {
   "display_name": "R",
   "language": "R",
   "name": "ir"
  },
  "language_info": {
   "codemirror_mode": "r",
   "file_extension": ".r",
   "mimetype": "text/x-r-source",
   "name": "R",
   "pygments_lexer": "r",
   "version": "4.1.3"
  }
 },
 "nbformat": 4,
 "nbformat_minor": 5
}
